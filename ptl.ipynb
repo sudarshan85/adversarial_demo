{
 "cells": [
  {
   "cell_type": "markdown",
   "metadata": {
    "Collapsed": "false"
   },
   "source": [
    "# Adversarial Example Generation for Images"
   ]
  },
  {
   "cell_type": "code",
   "execution_count": 1,
   "metadata": {
    "Collapsed": "false"
   },
   "outputs": [],
   "source": [
    "%load_ext autoreload\n",
    "%autoreload 2"
   ]
  },
  {
   "cell_type": "code",
   "execution_count": 2,
   "metadata": {
    "Collapsed": "false"
   },
   "outputs": [],
   "source": [
    "import pdb\n",
    "import pandas as pd\n",
    "import numpy as np\n",
    "\n",
    "from pathlib import Path\n",
    "from PIL import Image\n",
    "from collections import OrderedDict\n",
    "from argparse import Namespace\n",
    "import matplotlib.pyplot as plt\n",
    "%matplotlib inline"
   ]
  },
  {
   "cell_type": "code",
   "execution_count": 3,
   "metadata": {
    "Collapsed": "false"
   },
   "outputs": [
    {
     "name": "stdout",
     "output_type": "stream",
     "text": [
      "GPU present: True\n"
     ]
    }
   ],
   "source": [
    "import torch\n",
    "import torch.tensor as T\n",
    "from torch import nn, optim\n",
    "from torch.nn import functional as F\n",
    "\n",
    "from torch.utils.data import DataLoader, random_split\n",
    "from torchvision import transforms, models\n",
    "from torchvision.datasets import ImageFolder\n",
    "from torchsummary import summary\n",
    "\n",
    "import pytorch_lightning as pl\n",
    "\n",
    "print(f\"GPU present: {torch.cuda.is_available()}\")"
   ]
  },
  {
   "cell_type": "code",
   "execution_count": 4,
   "metadata": {
    "Collapsed": "false"
   },
   "outputs": [],
   "source": [
    "img_size=(150,150)\n",
    "data_stats = dict(mean=T([0.4302, 0.4575, 0.4539]), std=T([0.2361, 0.2347, 0.2433]))\n",
    "data_path = Path('./data')"
   ]
  },
  {
   "cell_type": "code",
   "execution_count": 5,
   "metadata": {
    "Collapsed": "false"
   },
   "outputs": [
    {
     "ename": "AttributeError",
     "evalue": "module 'logging' has no attribute 'tensorboard'",
     "output_type": "error",
     "traceback": [
      "\u001b[0;31m---------------------------------------------------------------------------\u001b[0m",
      "\u001b[0;31mAttributeError\u001b[0m                            Traceback (most recent call last)",
      "\u001b[0;32m<ipython-input-5-a77e539879f3>\u001b[0m in \u001b[0;36m<module>\u001b[0;34m\u001b[0m\n\u001b[0;32m----> 1\u001b[0;31m \u001b[0mpl\u001b[0m\u001b[0;34m.\u001b[0m\u001b[0mlogging\u001b[0m\u001b[0;34m.\u001b[0m\u001b[0mtensorboard\u001b[0m\u001b[0;34m\u001b[0m\u001b[0;34m\u001b[0m\u001b[0m\n\u001b[0m",
      "\u001b[0;31mAttributeError\u001b[0m: module 'logging' has no attribute 'tensorboard'"
     ]
    }
   ],
   "source": [
    "pl.logging.tensorboard"
   ]
  },
  {
   "cell_type": "markdown",
   "metadata": {
    "Collapsed": "false"
   },
   "source": [
    "## Functions"
   ]
  },
  {
   "cell_type": "code",
   "execution_count": null,
   "metadata": {
    "Collapsed": "false"
   },
   "outputs": [],
   "source": [
    "def for_disp(img):\n",
    "  img.mul_(data_stats['std'][:, None, None]).add_(data_stats['mean'][:, None, None])\n",
    "  return transforms.ToPILImage()(img)\n",
    "\n",
    "def get_stats(loader):\n",
    "  mean,std = 0.0,0.0\n",
    "  nb_samples = 0\n",
    "  for imgs, _ in loader:\n",
    "    batch = imgs.size(0)\n",
    "    imgs = imgs.view(batch, imgs.size(1), -1)\n",
    "    mean += imgs.mean(2).sum(0)\n",
    "    std += imgs.std(2).sum(0)\n",
    "    nb_samples += batch\n",
    "\n",
    "  return mean/nb_samples, std/nb_samples"
   ]
  },
  {
   "cell_type": "markdown",
   "metadata": {
    "Collapsed": "true"
   },
   "source": [
    "## EDA Data"
   ]
  },
  {
   "cell_type": "code",
   "execution_count": null,
   "metadata": {
    "Collapsed": "false"
   },
   "outputs": [],
   "source": [
    "imgs,labels = [],[]\n",
    "n_imgs = 5\n",
    "\n",
    "for folder in (data_path/'train').iterdir():\n",
    "  label = folder.name  \n",
    "  for img_f in list(folder.glob('*.jpg'))[:n_imgs]:\n",
    "    with Image.open(img_f) as f:\n",
    "      imgs.append(np.array(f))\n",
    "    labels.append(label)\n",
    "\n",
    "n_classes = len(np.unique(labels))"
   ]
  },
  {
   "cell_type": "code",
   "execution_count": null,
   "metadata": {
    "Collapsed": "false"
   },
   "outputs": [],
   "source": [
    "fig = plt.figure(figsize=(15, 15))\n",
    "\n",
    "for i, img in enumerate(imgs):\n",
    "  ax = fig.add_subplot(n_classes, n_imgs, i+1)\n",
    "  ax.imshow(img)\n",
    "  ax.set_title(labels[i], color='r')\n",
    "  ax.set_xticks([])\n",
    "  ax.set_yticks([])\n",
    "    \n",
    "plt.show()"
   ]
  },
  {
   "cell_type": "code",
   "execution_count": null,
   "metadata": {
    "Collapsed": "false"
   },
   "outputs": [],
   "source": [
    "train_tfms = transforms.Compose(\n",
    "  [\n",
    "    transforms.Resize(img_size),\n",
    "    transforms.RandomHorizontalFlip(p=0.5),\n",
    "    transforms.ToTensor(),\n",
    "    transforms.Normalize(**data_stats),    \n",
    "  ]\n",
    ")\n",
    "\n",
    "pred_tfms = transforms.Compose(\n",
    "  [\n",
    "    transforms.Resize(img_size),\n",
    "    transforms.ToTensor(),\n",
    "    transforms.Normalize(**data_stats)\n",
    "  ]\n",
    ")"
   ]
  },
  {
   "cell_type": "code",
   "execution_count": null,
   "metadata": {
    "Collapsed": "false"
   },
   "outputs": [],
   "source": [
    "ds = ImageFolder(data_path/'train', transform=train_tfms)\n",
    "\n",
    "train_pct = 0.85\n",
    "n_train = np.int(len(ds) * train_pct)\n",
    "n_val = len(ds) - n_train\n",
    "\n",
    "train_ds,val_ds = random_split(ds, [n_train, n_val])\n",
    "train_ds,val_ds = train_ds.dataset,val_ds.dataset"
   ]
  },
  {
   "cell_type": "code",
   "execution_count": null,
   "metadata": {
    "Collapsed": "false"
   },
   "outputs": [],
   "source": [
    "train_dl = DataLoader(train_ds, batch_size=32, shuffle=True, drop_last=True)\n",
    "train_itr = iter(train_dl)\n",
    "\n",
    "val_dl = DataLoader(val_ds, batch_size=32)\n",
    "val_itr = iter(val_dl)\n",
    "\n",
    "test_ds = ImageFolder(data_path/'test', transform=pred_tfms)\n",
    "test_dl = DataLoader(test_ds, batch_size=32)"
   ]
  },
  {
   "cell_type": "code",
   "execution_count": null,
   "metadata": {
    "Collapsed": "false"
   },
   "outputs": [],
   "source": [
    "imgs, labels = next(train_itr)"
   ]
  },
  {
   "cell_type": "code",
   "execution_count": null,
   "metadata": {
    "Collapsed": "false"
   },
   "outputs": [],
   "source": [
    "idx = np.random.randint(len(imgs))\n",
    "\n",
    "print(train_ds.classes[labels[idx].item()])\n",
    "img = for_disp(imgs[idx])\n",
    "img"
   ]
  },
  {
   "cell_type": "markdown",
   "metadata": {
    "Collapsed": "false"
   },
   "source": [
    "## Training"
   ]
  },
  {
   "cell_type": "code",
   "execution_count": null,
   "metadata": {
    "Collapsed": "false"
   },
   "outputs": [],
   "source": [
    "class IntelImageClassifier(pl.LightningModule):\n",
    "  def __init__(self, hparams):\n",
    "    super(IntelImageClassifier, self).__init__()\n",
    "    self.hparams = hparams\n",
    "    self.loss_fn = nn.CrossEntropyLoss()\n",
    "    self.img_tfms = self.__define_tfms()\n",
    "    self.train_ds,self.val_ds = self.__split_data()\n",
    "    self.model = self.__build_model()\n",
    "    \n",
    "  def __build_model(self):\n",
    "    model = models.vgg16(pretrained=True) # load pretrained model\n",
    "    for param in model.parameters(): param.requires_grad=False # freeze model params\n",
    "    \n",
    "    # replace last layer with custom layer\n",
    "    classifier = nn.Sequential(\n",
    "      nn.Linear(in_features=25088, out_features=4096),\n",
    "      nn.ReLU(),\n",
    "      nn.Dropout(p=0.5),\n",
    "      nn.Linear(in_features=4096, out_features=4096),\n",
    "      nn.ReLU(),\n",
    "      nn.Dropout(p=0.5),\n",
    "      nn.Linear(in_features=4096, out_features=6) # 6 classes\n",
    "    )\n",
    "    model.classifier = classifier\n",
    "    return model\n",
    "  \n",
    "  def forward(self, x): return self.model(x)\n",
    "  \n",
    "  def configure_optimizers(self):\n",
    "    return optim.Adam(self.model.classifier.parameters(), lr=self.hparams.lr)\n",
    "  \n",
    "  def __define_tfms(self):\n",
    "    tfms = {}    \n",
    "    tfms['train'] = transforms.Compose([\n",
    "      transforms.Resize((150, 150)),\n",
    "      transforms.RandomHorizontalFlip(p=0.5),\n",
    "      transforms.ToTensor(),\n",
    "      transforms.Normalize(**self.hparams.data_stats)\n",
    "    ])\n",
    "    tfms['pred'] = transforms.Compose([\n",
    "      transforms.Resize((150, 150)),\n",
    "      transforms.ToTensor(),\n",
    "      transforms.Normalize(**self.hparams.data_stats)\n",
    "    ])    \n",
    "    return tfms\n",
    "  \n",
    "  def training_step(self, batch, batch_idx):\n",
    "    imgs,labels = batch\n",
    "    out = self.forward(imgs)\n",
    "    loss = self.loss_fn(out, labels)\n",
    "    \n",
    "    tqdm_dict = {'train_loss': loss}\n",
    "    output = OrderedDict({\n",
    "      'loss': loss,\n",
    "      'progress_bar': tqdm_dict,\n",
    "    })\n",
    "    \n",
    "  def __split_data(self):\n",
    "    ds = ImageFolder(self.hparams.data_path/'train', self.img_tfms['train'])\n",
    "    n_train = np.int(len(ds) * self.hparams.train_pct)\n",
    "    n_val = len(ds) - n_train\n",
    "    train_ds,val_ds = random_split(ds, [n_train, n_val])\n",
    "    return train_ds, val_ds\n",
    "    \n",
    "  @pl.data_loader\n",
    "  def train_dataloader(self): \n",
    "    return DataLoader(self.train_ds, batch_size=self.hparams.bs, shuffle=True, drop_last=True, num_workers=4)\n",
    "  \n",
    "#   @pl.data_loader\n",
    "#   def val_dataloader(self):\n",
    "#     return DataLoader(self.val_ds, batch_size=self.hparams.bs)"
   ]
  },
  {
   "cell_type": "code",
   "execution_count": null,
   "metadata": {
    "Collapsed": "false"
   },
   "outputs": [],
   "source": [
    "hparams = Namespace(\n",
    "  bs=32,\n",
    "  lr=0.001,\n",
    "  train_pct=0.85,\n",
    "  data_path=Path('./data'),\n",
    "  data_stats=dict(mean=T([0.4302, 0.4575, 0.4539]), std=T([0.2361, 0.2347, 0.2433])),\n",
    ")"
   ]
  },
  {
   "cell_type": "code",
   "execution_count": null,
   "metadata": {
    "Collapsed": "false"
   },
   "outputs": [],
   "source": [
    "model = IntelImageClassifier(hparams)"
   ]
  },
  {
   "cell_type": "code",
   "execution_count": null,
   "metadata": {
    "Collapsed": "false"
   },
   "outputs": [],
   "source": [
    "import logging"
   ]
  },
  {
   "cell_type": "code",
   "execution_count": null,
   "metadata": {
    "Collapsed": "false"
   },
   "outputs": [],
   "source": [
    "logger = logging.getLogger(__name__)"
   ]
  },
  {
   "cell_type": "code",
   "execution_count": null,
   "metadata": {
    "Collapsed": "false"
   },
   "outputs": [],
   "source": [
    "trainer = pl.Trainer(logger=logger,train_percent_check=0.1)\n",
    "trainer.fit(model)"
   ]
  },
  {
   "cell_type": "code",
   "execution_count": null,
   "metadata": {
    "Collapsed": "false"
   },
   "outputs": [],
   "source": [
    "tfms = {\n",
    "  'train': transforms.Compose([\n",
    "    transforms.Resize((150, 150)),\n",
    "    transforms.RandomHorizontalFlip(p=0.5),\n",
    "    transforms.ToTensor(),\n",
    "    transforms.Normalize(**hparams.data_stats)\n",
    "  ]),\n",
    "  'pred': transforms.Compose([\n",
    "    transforms.Resize((150, 150)),\n",
    "    transforms.ToTensor(),\n",
    "    transforms.Normalize(**hparams.data_stats)\n",
    "  ]),\n",
    "}    \n",
    "ds = ImageFolder(data_path/'train', transform=tfms['pred'])\n",
    "\n",
    "train_pct = 0.85\n",
    "n_train = np.int(len(ds) * train_pct)\n",
    "n_val = len(ds) - n_train\n",
    "\n",
    "train_ds,val_ds = random_split(ds, [n_train, n_val])\n",
    "\n",
    "train_dl = DataLoader(train_ds, batch_size=32, shuffle=True, drop_last=True)\n",
    "train_itr = iter(train_dl)\n",
    "\n",
    "val_dl = DataLoader(val_ds, batch_size=32)\n",
    "val_itr = iter(val_dl)\n",
    "\n",
    "test_ds = ImageFolder(data_path/'test', transform=tfms['pred'])\n",
    "test_dl = DataLoader(test_ds, batch_size=32)"
   ]
  },
  {
   "cell_type": "code",
   "execution_count": null,
   "metadata": {
    "Collapsed": "false"
   },
   "outputs": [],
   "source": [
    "clf = models.vgg16(pretrained=True)\n",
    "for param in clf.parameters(): param.requires_grad=False"
   ]
  },
  {
   "cell_type": "code",
   "execution_count": null,
   "metadata": {
    "Collapsed": "false"
   },
   "outputs": [],
   "source": [
    "final_clf = nn.Sequential(\n",
    "  nn.Linear(in_features=25088, out_features=4096),\n",
    "  nn.ReLU(),\n",
    "  nn.Dropout(p=0.5),\n",
    "  nn.Linear(in_features=4096, out_features=4096),\n",
    "  nn.ReLU(),\n",
    "  nn.Dropout(p=0.5),\n",
    "  nn.Linear(in_features=4096, out_features=6),\n",
    ")\n",
    "\n",
    "clf.classifier = final_clf"
   ]
  },
  {
   "cell_type": "code",
   "execution_count": null,
   "metadata": {
    "Collapsed": "false"
   },
   "outputs": [],
   "source": [
    "loss_fn = nn.CrossEntropyLoss()\n",
    "opt = optim.Adam(clf.parameters(), lr=0.01)"
   ]
  },
  {
   "cell_type": "code",
   "execution_count": null,
   "metadata": {
    "Collapsed": "false"
   },
   "outputs": [],
   "source": [
    "clf = clf.cuda()"
   ]
  },
  {
   "cell_type": "code",
   "execution_count": null,
   "metadata": {
    "Collapsed": "false"
   },
   "outputs": [],
   "source": [
    "imgs, labels = next(train_itr)\n",
    "imgs = imgs.cuda()\n",
    "labels = labels.cuda()\n",
    "\n",
    "pred = clf(imgs)\n",
    "loss_fn(pred, labels)"
   ]
  },
  {
   "cell_type": "code",
   "execution_count": null,
   "metadata": {
    "Collapsed": "false"
   },
   "outputs": [],
   "source": [
    "summary(clf, input_size=(3, 150, 150))"
   ]
  },
  {
   "cell_type": "code",
   "execution_count": null,
   "metadata": {
    "Collapsed": "false"
   },
   "outputs": [],
   "source": [
    "summary(clf, input_size=(3,150,150))"
   ]
  }
 ],
 "metadata": {
  "kernelspec": {
   "display_name": "Python 3",
   "language": "python",
   "name": "python3"
  },
  "language_info": {
   "codemirror_mode": {
    "name": "ipython",
    "version": 3
   },
   "file_extension": ".py",
   "mimetype": "text/x-python",
   "name": "python",
   "nbconvert_exporter": "python",
   "pygments_lexer": "ipython3",
   "version": "3.7.6"
  }
 },
 "nbformat": 4,
 "nbformat_minor": 4
}
