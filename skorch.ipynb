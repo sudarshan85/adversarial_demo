{
 "cells": [
  {
   "cell_type": "markdown",
   "metadata": {
    "Collapsed": "false"
   },
   "source": [
    "# Adversarial Example Generation for Images"
   ]
  },
  {
   "cell_type": "code",
   "execution_count": 1,
   "metadata": {
    "Collapsed": "false"
   },
   "outputs": [],
   "source": [
    "%load_ext autoreload\n",
    "%autoreload 2"
   ]
  },
  {
   "cell_type": "code",
   "execution_count": 2,
   "metadata": {
    "Collapsed": "false"
   },
   "outputs": [],
   "source": [
    "import pdb\n",
    "import pandas as pd\n",
    "import numpy as np\n",
    "\n",
    "from pathlib import Path\n",
    "from PIL import Image\n",
    "from collections import OrderedDict\n",
    "from argparse import Namespace\n",
    "import matplotlib.pyplot as plt\n",
    "import seaborn as sns\n",
    "sns.set_style(\"darkgrid\")\n",
    "%matplotlib inline"
   ]
  },
  {
   "cell_type": "code",
   "execution_count": 3,
   "metadata": {
    "Collapsed": "false"
   },
   "outputs": [
    {
     "name": "stderr",
     "output_type": "stream",
     "text": [
      "/home/sudarshan/miniconda3/envs/adv/lib/python3.7/site-packages/sklearn/utils/deprecation.py:144: FutureWarning: The sklearn.metrics.scorer module is  deprecated in version 0.22 and will be removed in version 0.24. The corresponding classes / functions should instead be imported from sklearn.metrics. Anything that cannot be imported from sklearn.metrics is now part of the private API.\n",
      "  warnings.warn(message, FutureWarning)\n"
     ]
    },
    {
     "name": "stdout",
     "output_type": "stream",
     "text": [
      "GPU present: True\n"
     ]
    }
   ],
   "source": [
    "import torch\n",
    "import torch.tensor as T\n",
    "from torch import nn, optim\n",
    "from torch.nn import functional as F\n",
    "\n",
    "from torch.utils.data import DataLoader, random_split\n",
    "from torchvision import transforms, models\n",
    "from torchvision.datasets import ImageFolder\n",
    "from torchsummary import summary\n",
    "\n",
    "from skorch import NeuralNetClassifier\n",
    "from skorch.callbacks import Checkpoint, Freezer, LRScheduler, EarlyStopping\n",
    "from skorch.dataset import CVSplit\n",
    "\n",
    "print(f\"GPU present: {torch.cuda.is_available()}\")"
   ]
  },
  {
   "cell_type": "code",
   "execution_count": 4,
   "metadata": {
    "Collapsed": "false"
   },
   "outputs": [],
   "source": [
    "img_size=(150,150)\n",
    "data_stats = dict(mean=T([0.4302, 0.4575, 0.4539]), std=T([0.2361, 0.2347, 0.2433]))\n",
    "data_path = Path('./data')"
   ]
  },
  {
   "cell_type": "markdown",
   "metadata": {
    "Collapsed": "true"
   },
   "source": [
    "## Functions"
   ]
  },
  {
   "cell_type": "code",
   "execution_count": null,
   "metadata": {
    "Collapsed": "false"
   },
   "outputs": [],
   "source": [
    "def for_disp(img):\n",
    "  img.mul_(data_stats['std'][:, None, None]).add_(data_stats['mean'][:, None, None])\n",
    "  return transforms.ToPILImage()(img)\n",
    "\n",
    "def get_stats(loader):\n",
    "  mean,std = 0.0,0.0\n",
    "  nb_samples = 0\n",
    "  for imgs, _ in loader:\n",
    "    batch = imgs.size(0)\n",
    "    imgs = imgs.view(batch, imgs.size(1), -1)\n",
    "    mean += imgs.mean(2).sum(0)\n",
    "    std += imgs.std(2).sum(0)\n",
    "    nb_samples += batch\n",
    "\n",
    "  return mean/nb_samples, std/nb_samples"
   ]
  },
  {
   "cell_type": "markdown",
   "metadata": {
    "Collapsed": "true"
   },
   "source": [
    "## EDA Data"
   ]
  },
  {
   "cell_type": "code",
   "execution_count": null,
   "metadata": {
    "Collapsed": "false"
   },
   "outputs": [],
   "source": [
    "imgs,labels = [],[]\n",
    "n_imgs = 5\n",
    "\n",
    "for folder in (data_path/'train').iterdir():\n",
    "  label = folder.name  \n",
    "  for img_f in list(folder.glob('*.jpg'))[:n_imgs]:\n",
    "    with Image.open(img_f) as f:\n",
    "      imgs.append(np.array(f))\n",
    "    labels.append(label)\n",
    "\n",
    "n_classes = len(np.unique(labels))"
   ]
  },
  {
   "cell_type": "code",
   "execution_count": null,
   "metadata": {
    "Collapsed": "false"
   },
   "outputs": [],
   "source": [
    "fig = plt.figure(figsize=(15, 15))\n",
    "\n",
    "for i, img in enumerate(imgs):\n",
    "  ax = fig.add_subplot(n_classes, n_imgs, i+1)\n",
    "  ax.imshow(img)\n",
    "  ax.set_title(labels[i], color='r')\n",
    "  ax.set_xticks([])\n",
    "  ax.set_yticks([])\n",
    "    \n",
    "plt.show()"
   ]
  },
  {
   "cell_type": "code",
   "execution_count": null,
   "metadata": {
    "Collapsed": "false"
   },
   "outputs": [],
   "source": [
    "train_tfms = transforms.Compose(\n",
    "  [\n",
    "    transforms.Resize(img_size),\n",
    "    transforms.RandomHorizontalFlip(p=0.5),\n",
    "    transforms.ToTensor(),\n",
    "    transforms.Normalize(**data_stats),    \n",
    "  ]\n",
    ")\n",
    "\n",
    "pred_tfms = transforms.Compose(\n",
    "  [\n",
    "    transforms.Resize(img_size),\n",
    "    transforms.ToTensor(),\n",
    "    transforms.Normalize(**data_stats)\n",
    "  ]\n",
    ")"
   ]
  },
  {
   "cell_type": "code",
   "execution_count": null,
   "metadata": {
    "Collapsed": "false"
   },
   "outputs": [],
   "source": [
    "ds = ImageFolder(data_path/'train', transform=train_tfms)\n",
    "\n",
    "train_pct = 0.85\n",
    "n_train = np.int(len(ds) * train_pct)\n",
    "n_val = len(ds) - n_train\n",
    "\n",
    "train_ds,val_ds = random_split(ds, [n_train, n_val])\n",
    "train_ds,val_ds = train_ds.dataset,val_ds.dataset"
   ]
  },
  {
   "cell_type": "code",
   "execution_count": null,
   "metadata": {
    "Collapsed": "false"
   },
   "outputs": [],
   "source": [
    "train_dl = DataLoader(train_ds, batch_size=32, shuffle=True, drop_last=True)\n",
    "train_itr = iter(train_dl)\n",
    "\n",
    "val_dl = DataLoader(val_ds, batch_size=32)\n",
    "val_itr = iter(val_dl)\n",
    "\n",
    "test_ds = ImageFolder(data_path/'test', transform=pred_tfms)\n",
    "test_dl = DataLoader(test_ds, batch_size=32)"
   ]
  },
  {
   "cell_type": "code",
   "execution_count": null,
   "metadata": {
    "Collapsed": "false"
   },
   "outputs": [],
   "source": [
    "imgs, labels = next(train_itr)"
   ]
  },
  {
   "cell_type": "code",
   "execution_count": null,
   "metadata": {
    "Collapsed": "false"
   },
   "outputs": [],
   "source": [
    "idx = np.random.randint(len(imgs))\n",
    "\n",
    "print(train_ds.classes[labels[idx].item()])\n",
    "img = for_disp(imgs[idx])\n",
    "img"
   ]
  },
  {
   "cell_type": "markdown",
   "metadata": {
    "Collapsed": "false"
   },
   "source": [
    "## Training"
   ]
  },
  {
   "cell_type": "code",
   "execution_count": 5,
   "metadata": {
    "Collapsed": "false"
   },
   "outputs": [],
   "source": [
    "tfms = {}    \n",
    "tfms['train'] = transforms.Compose([\n",
    "  transforms.Resize((150, 150)),\n",
    "  transforms.RandomHorizontalFlip(p=0.5),\n",
    "  transforms.ToTensor(),\n",
    "  transforms.Normalize(**data_stats)\n",
    "])\n",
    "tfms['pred'] = transforms.Compose([\n",
    "  transforms.Resize((150, 150)),\n",
    "  transforms.ToTensor(),\n",
    "  transforms.Normalize(**data_stats)\n",
    "])"
   ]
  },
  {
   "cell_type": "code",
   "execution_count": 6,
   "metadata": {
    "Collapsed": "false"
   },
   "outputs": [],
   "source": [
    "train_ds = ImageFolder(data_path/'train', transform=tfms['train'])\n",
    "test_ds = ImageFolder(data_path/'test', transform=tfms['pred'])"
   ]
  },
  {
   "cell_type": "code",
   "execution_count": 7,
   "metadata": {
    "Collapsed": "false"
   },
   "outputs": [],
   "source": [
    "class IntelImageClassifier(nn.Module):\n",
    "  def __init__(self):\n",
    "    super(IntelImageClassifier, self).__init__()\n",
    "    self.model = models.vgg16(pretrained=True) # load pretrained model\n",
    "    \n",
    "    # replace last layer with custom layer\n",
    "    classifier = nn.Sequential(\n",
    "      nn.Linear(in_features=25088, out_features=4096),\n",
    "      nn.ReLU(),\n",
    "      nn.Dropout(p=0.5),\n",
    "      nn.Linear(in_features=4096, out_features=4096),\n",
    "      nn.ReLU(),\n",
    "      nn.Dropout(p=0.5),\n",
    "      nn.Linear(in_features=4096, out_features=6) # 6 classes\n",
    "    )\n",
    "    self.model.classifier = classifier\n",
    "    \n",
    "  def forward(self, x):\n",
    "    return self.model(x)"
   ]
  },
  {
   "cell_type": "code",
   "execution_count": 8,
   "metadata": {
    "Collapsed": "false"
   },
   "outputs": [],
   "source": [
    "lrscheduler = LRScheduler(policy='StepLR', step_size=7, gamma=0.1)\n",
    "chkpt = Checkpoint(dirname=Path('./workdir'), monitor='valid_acc_best')\n",
    "freezer = Freezer(lambda x: not x.startswith('model.classifier'))"
   ]
  },
  {
   "cell_type": "code",
   "execution_count": 9,
   "metadata": {
    "Collapsed": "false"
   },
   "outputs": [],
   "source": [
    "net = NeuralNetClassifier(\n",
    "  IntelImageClassifier,\n",
    "  criterion=nn.CrossEntropyLoss,\n",
    "  lr=0.001,\n",
    "  batch_size=128,\n",
    "  max_epochs=25,\n",
    "  optimizer=optim.Adam,\n",
    "  iterator_train__shuffle=True,\n",
    "  iterator_train__drop_last=True,\n",
    "  iterator_train__num_workers=4,\n",
    "  iterator_valid__shuffle=False,  \n",
    "  train_split=CVSplit(cv=0.15),\n",
    "  callbacks=[lrscheduler, chkpt, freezer, EarlyStopping()],\n",
    "  device='cuda:0'\n",
    ")"
   ]
  },
  {
   "cell_type": "code",
   "execution_count": 10,
   "metadata": {
    "Collapsed": "false"
   },
   "outputs": [
    {
     "name": "stdout",
     "output_type": "stream",
     "text": [
      "  epoch    train_loss    valid_acc    valid_loss    cp      dur\n",
      "-------  ------------  -----------  ------------  ----  -------\n",
      "      1        \u001b[36m0.8376\u001b[0m       \u001b[32m0.8989\u001b[0m        \u001b[35m0.2866\u001b[0m     +  85.7202\n",
      "      2        \u001b[36m0.2855\u001b[0m       \u001b[32m0.9098\u001b[0m        0.2885     +  85.4495\n",
      "      3        \u001b[36m0.2613\u001b[0m       0.9027        0.2950        85.3040\n",
      "      4        \u001b[36m0.2428\u001b[0m       \u001b[32m0.9103\u001b[0m        0.2984     +  85.5299\n",
      "      5        0.2623       0.9103        0.3211        85.3177\n",
      "Stopping since valid_loss has not improved in the last 5 epochs.\n"
     ]
    }
   ],
   "source": [
    "net.fit(train_ds, y=None);"
   ]
  },
  {
   "cell_type": "code",
   "execution_count": 15,
   "metadata": {
    "Collapsed": "false"
   },
   "outputs": [
    {
     "data": {
      "text/plain": [
       "<matplotlib.legend.Legend at 0x7f5479da33d0>"
      ]
     },
     "execution_count": 15,
     "metadata": {},
     "output_type": "execute_result"
    },
    {
     "data": {
      "image/png": "[encoded data removed]",
      "text/plain": [
       "<Figure size 720x576 with 1 Axes>"
      ]
     },
     "metadata": {},
     "output_type": "display_data"
    }
   ],
   "source": [
    "fig, ax = plt.subplots(figsize=(10, 8))\n",
    "n_epochs = len(net.history)\n",
    "sns.lineplot(range(n_epochs), net.history[:, 'train_loss'])\n",
    "sns.lineplot(range(n_epochs), net.history[:, 'valid_loss'])\n",
    "ax.legend(['train_loss', 'valid_loss'])"
   ]
  },
  {
   "cell_type": "code",
   "execution_count": 16,
   "metadata": {
    "Collapsed": "false"
   },
   "outputs": [],
   "source": [
    "pred = net.predict(test_ds)"
   ]
  },
  {
   "cell_type": "code",
   "execution_count": 21,
   "metadata": {
    "Collapsed": "false"
   },
   "outputs": [],
   "source": [
    "from sklearn.metrics import accuracy_score"
   ]
  },
  {
   "cell_type": "code",
   "execution_count": 30,
   "metadata": {
    "Collapsed": "false"
   },
   "outputs": [],
   "source": [
    "test_dl = DataLoader(test_ds, batch_size=len(test_ds))\n",
    "_, y_true = iter(test_dl).next()"
   ]
  },
  {
   "cell_type": "code",
   "execution_count": 32,
   "metadata": {
    "Collapsed": "false"
   },
   "outputs": [],
   "source": [
    "y_true = y_true.numpy()"
   ]
  },
  {
   "cell_type": "code",
   "execution_count": 36,
   "metadata": {
    "Collapsed": "false"
   },
   "outputs": [],
   "source": [
    "prob = net.predict_proba(test_ds)"
   ]
  },
  {
   "cell_type": "code",
   "execution_count": 39,
   "metadata": {
    "Collapsed": "false"
   },
   "outputs": [],
   "source": [
    "prob = 1/(1+np.exp(-prob))"
   ]
  },
  {
   "cell_type": "code",
   "execution_count": 35,
   "metadata": {
    "Collapsed": "false"
   },
   "outputs": [
    {
     "data": {
      "text/plain": [
       "0.8946666666666667"
      ]
     },
     "execution_count": 35,
     "metadata": {},
     "output_type": "execute_result"
    }
   ],
   "source": [
    "accuracy_score(y_true, pred)"
   ]
  },
  {
   "cell_type": "code",
   "execution_count": null,
   "metadata": {
    "Collapsed": "false"
   },
   "outputs": [],
   "source": [
    "# net.initialize();\n",
    "summary(net.module_, input_size=(3, 150, 150))"
   ]
  },
  {
   "cell_type": "code",
   "execution_count": null,
   "metadata": {
    "Collapsed": "false"
   },
   "outputs": [],
   "source": [
    "clf = IntelImageClassifier().cuda()\n",
    "loss_fn = nn.CrossEntropyLoss()\n",
    "opt = optim.Adam(clf.parameters(), lr=0.01)"
   ]
  },
  {
   "cell_type": "code",
   "execution_count": null,
   "metadata": {
    "Collapsed": "false"
   },
   "outputs": [],
   "source": [
    "imgs, labels = next(train_itr)\n",
    "imgs = imgs.cuda()\n",
    "labels = labels.cuda()\n",
    "\n",
    "pred = clf(imgs)\n",
    "loss_fn(pred, labels)"
   ]
  }
 ],
 "metadata": {
  "kernelspec": {
   "display_name": "Python 3",
   "language": "python",
   "name": "python3"
  },
  "language_info": {
   "codemirror_mode": {
    "name": "ipython",
    "version": 3
   },
   "file_extension": ".py",
   "mimetype": "text/x-python",
   "name": "python",
   "nbconvert_exporter": "python",
   "pygments_lexer": "ipython3",
   "version": "3.7.6"
  }
 },
 "nbformat": 4,
 "nbformat_minor": 4
}
