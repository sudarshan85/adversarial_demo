{
 "cells": [
  {
   "cell_type": "markdown",
   "metadata": {
    "Collapsed": "false"
   },
   "source": [
    "# Adversarial Example Generation for Images"
   ]
  },
  {
   "cell_type": "code",
   "execution_count": null,
   "metadata": {
    "Collapsed": "false"
   },
   "outputs": [],
   "source": [
    "%load_ext autoreload\n",
    "%autoreload 2"
   ]
  },
  {
   "cell_type": "code",
   "execution_count": null,
   "metadata": {
    "Collapsed": "false"
   },
   "outputs": [],
   "source": [
    "import pdb\n",
    "import pandas as pd\n",
    "import numpy as np\n",
    "\n",
    "from pathlib import Path\n",
    "from PIL import Image\n",
    "import matplotlib.pyplot as plt\n",
    "import seaborn as sns\n",
    "sns.set_style(\"darkgrid\")\n",
    "plt.rcParams[\"axes.grid\"] = False\n",
    "%matplotlib inline"
   ]
  },
  {
   "cell_type": "code",
   "execution_count": null,
   "metadata": {
    "Collapsed": "false"
   },
   "outputs": [],
   "source": [
    "import torch\n",
    "import torch.tensor as T\n",
    "from torch import nn, optim\n",
    "from torch.nn import functional as F\n",
    "\n",
    "from torch.utils.data import DataLoader, random_split, Dataset\n",
    "from torchvision import transforms, models\n",
    "from torchvision.datasets import ImageFolder\n",
    "from torchsummary import summary\n",
    "\n",
    "from sklearn.metrics import accuracy_score\n",
    "from skorch import NeuralNetClassifier\n",
    "from skorch.callbacks import Checkpoint, Freezer, LRScheduler, EarlyStopping, Unfreezer\n",
    "from skorch.dataset import CVSplit\n",
    "\n",
    "print(f\"GPU present: {torch.cuda.is_available()}\")"
   ]
  },
  {
   "cell_type": "code",
   "execution_count": null,
   "metadata": {
    "Collapsed": "false"
   },
   "outputs": [],
   "source": [
    "from advertorch.attacks import LinfPGDAttack"
   ]
  },
  {
   "cell_type": "code",
   "execution_count": null,
   "metadata": {
    "Collapsed": "false"
   },
   "outputs": [],
   "source": [
    "img_size=(150,150)\n",
    "data_stats = dict(mean=T([0.4302, 0.4575, 0.4539]), std=T([0.2361, 0.2347, 0.2433]))\n",
    "data_path = Path('./data')"
   ]
  },
  {
   "cell_type": "markdown",
   "metadata": {
    "Collapsed": "false"
   },
   "source": [
    "## Functions"
   ]
  },
  {
   "cell_type": "code",
   "execution_count": null,
   "metadata": {
    "Collapsed": "false"
   },
   "outputs": [],
   "source": [
    "# def for_disp_pil(img): return transforms.ToPILImage()(img.mul(data_stats['std'][:, None, None]).add(data_stats['mean'][:, None, None]))\n",
    "\n",
    "def for_disp(x):\n",
    "  img = x.cpu()\n",
    "  img = img.mul(data_stats['std'][:,None,None]).add(data_stats['mean'][:,None,None])\n",
    "  img = img.numpy()\n",
    "  img = img.swapaxes(1,2)\n",
    "  img = img.swapaxes(2,3)\n",
    "  \n",
    "  return img\n",
    "\n",
    "def get_stats(loader):\n",
    "  mean,std = 0.0,0.0\n",
    "  nb_samples = 0\n",
    "  for imgs, _ in loader:\n",
    "    batch = imgs.size(0)\n",
    "    imgs = imgs.view(batch, imgs.size(1), -1)\n",
    "    mean += imgs.mean(2).sum(0)\n",
    "    std += imgs.std(2).sum(0)\n",
    "    nb_samples += batch\n",
    "\n",
    "  return mean/nb_samples, std/nb_samples\n",
    "\n",
    "def sigmoid(x):\n",
    "  return 1/(1 + np.exp(-x))"
   ]
  },
  {
   "cell_type": "markdown",
   "metadata": {
    "Collapsed": "true"
   },
   "source": [
    "## EDA Data"
   ]
  },
  {
   "cell_type": "code",
   "execution_count": null,
   "metadata": {
    "Collapsed": "false"
   },
   "outputs": [],
   "source": [
    "imgs,labels = [],[]\n",
    "n_imgs = 5\n",
    "\n",
    "for folder in (data_path/'train').iterdir():\n",
    "  label = folder.name  \n",
    "  for img_f in list(folder.glob('*.jpg'))[:n_imgs]:\n",
    "    with Image.open(img_f) as f:\n",
    "      imgs.append(np.array(f))\n",
    "    labels.append(label)\n",
    "\n",
    "n_classes = len(np.unique(labels))"
   ]
  },
  {
   "cell_type": "code",
   "execution_count": null,
   "metadata": {
    "Collapsed": "false"
   },
   "outputs": [],
   "source": [
    "fig = plt.figure(figsize=(15, 15))\n",
    "\n",
    "for i, img in enumerate(imgs):\n",
    "  ax = fig.add_subplot(n_classes, n_imgs, i+1)\n",
    "  ax.imshow(img)\n",
    "  ax.set_title(labels[i], color='r')\n",
    "  ax.set_xticks([])\n",
    "  ax.set_yticks([])\n",
    "    \n",
    "plt.show()"
   ]
  },
  {
   "cell_type": "code",
   "execution_count": null,
   "metadata": {
    "Collapsed": "false"
   },
   "outputs": [],
   "source": [
    "train_tfms = transforms.Compose(\n",
    "  [\n",
    "    transforms.Resize(img_size),\n",
    "    transforms.RandomHorizontalFlip(p=0.5),\n",
    "    transforms.ToTensor(),\n",
    "    transforms.Normalize(**data_stats),    \n",
    "  ]\n",
    ")\n",
    "\n",
    "pred_tfms = transforms.Compose(\n",
    "  [\n",
    "    transforms.Resize(img_size),\n",
    "    transforms.ToTensor(),\n",
    "    transforms.Normalize(**data_stats)\n",
    "  ]\n",
    ")"
   ]
  },
  {
   "cell_type": "code",
   "execution_count": null,
   "metadata": {
    "Collapsed": "false"
   },
   "outputs": [],
   "source": [
    "ds = ImageFolder(data_path/'train', transform=train_tfms)\n",
    "\n",
    "train_pct = 0.85\n",
    "n_train = np.int(len(ds) * train_pct)\n",
    "n_val = len(ds) - n_train\n",
    "\n",
    "train_ds,val_ds = random_split(ds, [n_train, n_val])\n",
    "train_ds,val_ds = train_ds.dataset,val_ds.dataset"
   ]
  },
  {
   "cell_type": "code",
   "execution_count": null,
   "metadata": {
    "Collapsed": "false"
   },
   "outputs": [],
   "source": [
    "train_dl = DataLoader(train_ds, batch_size=32, shuffle=True, drop_last=True)\n",
    "train_itr = iter(train_dl)\n",
    "\n",
    "val_dl = DataLoader(val_ds, batch_size=32)\n",
    "val_itr = iter(val_dl)\n",
    "\n",
    "test_ds = ImageFolder(data_path/'test', transform=pred_tfms)\n",
    "test_dl = DataLoader(test_ds, batch_size=32)"
   ]
  },
  {
   "cell_type": "code",
   "execution_count": null,
   "metadata": {
    "Collapsed": "false"
   },
   "outputs": [],
   "source": [
    "imgs, labels = next(train_itr)"
   ]
  },
  {
   "cell_type": "code",
   "execution_count": null,
   "metadata": {
    "Collapsed": "false"
   },
   "outputs": [],
   "source": [
    "idx = np.random.randint(len(imgs))\n",
    "\n",
    "print(train_ds.classes[labels[idx].item()])\n",
    "img = for_disp(imgs[idx])\n",
    "img"
   ]
  },
  {
   "cell_type": "code",
   "execution_count": null,
   "metadata": {
    "Collapsed": "false"
   },
   "outputs": [],
   "source": [
    "clf = IntelImageClassifier().cuda()\n",
    "loss_fn = nn.CrossEntropyLoss()\n",
    "opt = optim.Adam(clf.parameters(), lr=0.01)"
   ]
  },
  {
   "cell_type": "code",
   "execution_count": null,
   "metadata": {
    "Collapsed": "false"
   },
   "outputs": [],
   "source": [
    "imgs, labels = next(train_itr)\n",
    "imgs = imgs.cuda()\n",
    "labels = labels.cuda()\n",
    "\n",
    "pred = clf(imgs)\n",
    "loss_fn(pred, labels)"
   ]
  },
  {
   "cell_type": "markdown",
   "metadata": {
    "Collapsed": "false"
   },
   "source": [
    "## Build Model"
   ]
  },
  {
   "cell_type": "markdown",
   "metadata": {
    "Collapsed": "false"
   },
   "source": [
    "### Setup"
   ]
  },
  {
   "cell_type": "code",
   "execution_count": null,
   "metadata": {
    "Collapsed": "false"
   },
   "outputs": [],
   "source": [
    "class UnlabeledTestSet(Dataset):\n",
    "  def __init__(self, data_path, tfms=transforms.ToTensor()):\n",
    "    self.imgs = list((data_path/'unlabeled_test').glob('*.jpg'))\n",
    "    self.tfms = tfms\n",
    "    \n",
    "  def __len__(self): return len(self.imgs)\n",
    "  \n",
    "  def __getitem__(self, idx):\n",
    "    if torch.is_tensor(idx):\n",
    "      idx = idx.tolist()\n",
    "      \n",
    "    with open(self.imgs[idx], 'rb') as f:\n",
    "      img = Image.open(f).convert('RGB')\n",
    "      \n",
    "    img = self.tfms(img)\n",
    "    return img, T(-1) # return dummy label"
   ]
  },
  {
   "cell_type": "code",
   "execution_count": null,
   "metadata": {
    "Collapsed": "false"
   },
   "outputs": [],
   "source": [
    "tfms = {}    \n",
    "tfms['train'] = transforms.Compose([\n",
    "  transforms.Resize((150, 150)),\n",
    "  transforms.RandomHorizontalFlip(p=0.5),\n",
    "  transforms.ToTensor(),\n",
    "  transforms.Normalize(**data_stats)\n",
    "])\n",
    "tfms['pred'] = transforms.Compose([\n",
    "  transforms.Resize((150, 150)),\n",
    "  transforms.ToTensor(),\n",
    "  transforms.Normalize(**data_stats)\n",
    "])\n",
    "\n",
    "train_ds = ImageFolder(data_path/'train', transform=tfms['train'])\n",
    "test_ds = ImageFolder(data_path/'test', transform=tfms['pred'])\n",
    "unlabeled_ds = UnlabeledTestSet(data_path, tfms['pred'])"
   ]
  },
  {
   "cell_type": "code",
   "execution_count": null,
   "metadata": {
    "Collapsed": "false"
   },
   "outputs": [],
   "source": [
    "class PretrainedClf(nn.Module):\n",
    "  def __init__(self, arch):\n",
    "    super(PretrainedClf, self).__init__()      \n",
    "    if arch == 'vgg16':\n",
    "      self.model = models.vgg19_bn(pretrained=True) # load pretrained model    \n",
    "      # replace last layer with custom layer\n",
    "      classifier = nn.Sequential(\n",
    "        nn.Linear(in_features=25088, out_features=4096),\n",
    "        nn.ReLU(),\n",
    "        nn.Dropout(p=0.5),\n",
    "        nn.Linear(in_features=4096, out_features=4096),\n",
    "        nn.ReLU(),\n",
    "        nn.Dropout(p=0.5),\n",
    "        nn.Linear(in_features=4096, out_features=6) # 6 classes\n",
    "      )\n",
    "      self.model.classifier = classifier\n",
    "    elif arch  == 'resnet34':\n",
    "      self.model = models.resnet34(pretrained=True)\n",
    "      self.model.fc = nn.Linear(self.model.fc.in_features, 6)\n",
    "    elif arch  == 'resnet50':\n",
    "      self.model = models.resnet50(pretrained=True)\n",
    "      self.model.fc = nn.Linear(self.model.fc.in_features, 6)      \n",
    "    else:\n",
    "      raise ValueError(\"Arch must be one of vgg16, resnet34 and resnet50\")\n",
    "    \n",
    "  def forward(self, x): return self.model(x)"
   ]
  },
  {
   "cell_type": "code",
   "execution_count": null,
   "metadata": {
    "Collapsed": "false"
   },
   "outputs": [],
   "source": [
    "# train_dl = DataLoader(train_ds, batch_size=16, shuffle=True, drop_last=True)\n",
    "# loss_fn = nn.CrossEntropyLoss()\n",
    "# itr = iter(train_dl)\n",
    "\n",
    "# summary(model.cuda(), input_size=(3,150,150))\n",
    "\n",
    "# imgs, labels = itr.next()\n",
    "# pred = model(imgs)\n",
    "# loss = loss_fn(pred, labels)\n",
    "# print(loss)"
   ]
  },
  {
   "cell_type": "code",
   "execution_count": null,
   "metadata": {
    "Collapsed": "false"
   },
   "outputs": [],
   "source": [
    "arch = 'vgg16'\n",
    "model = PretrainedClf(arch)\n",
    "\n",
    "if arch == 'vgg16': layer_name = 'model.classifier'\n",
    "elif arch in ['resnet34', 'resnet50']: layer_name = 'model.fc'"
   ]
  },
  {
   "cell_type": "code",
   "execution_count": null,
   "metadata": {
    "Collapsed": "false"
   },
   "outputs": [],
   "source": [
    "lrscheduler = LRScheduler(policy='StepLR', step_size=7, gamma=0.1)\n",
    "chkpt = Checkpoint(dirname=Path(f'./workdir/{arch}'), monitor='valid_acc_best')\n",
    "freezer = Freezer(lambda x: not x.startswith(layer_name))\n",
    "unfreezer = Unfreezer(lambda x: not x.startswith(layer_name))\n",
    "\n",
    "callbacks = [lrscheduler, chkpt, freezer, EarlyStopping()]"
   ]
  },
  {
   "cell_type": "code",
   "execution_count": null,
   "metadata": {
    "Collapsed": "false"
   },
   "outputs": [],
   "source": [
    "net = NeuralNetClassifier(\n",
    "  model,\n",
    "  criterion=nn.CrossEntropyLoss,\n",
    "  lr=0.001,\n",
    "  batch_size=128,\n",
    "  max_epochs=25,\n",
    "  optimizer=optim.Adam,\n",
    "  iterator_train__shuffle=True,\n",
    "  iterator_train__drop_last=True,\n",
    "  iterator_train__num_workers=4,\n",
    "  iterator_valid__shuffle=False,  \n",
    "  train_split=CVSplit(cv=0.15),\n",
    "  callbacks=callbacks,\n",
    "  device='cuda:0'\n",
    ")"
   ]
  },
  {
   "cell_type": "markdown",
   "metadata": {
    "Collapsed": "true"
   },
   "source": [
    "### Training"
   ]
  },
  {
   "cell_type": "code",
   "execution_count": null,
   "metadata": {
    "Collapsed": "false"
   },
   "outputs": [],
   "source": [
    "net.fit(train_ds, y=None);"
   ]
  },
  {
   "cell_type": "code",
   "execution_count": null,
   "metadata": {
    "Collapsed": "false"
   },
   "outputs": [],
   "source": [
    "fig, ax = plt.subplots(figsize=(10, 8))\n",
    "n_epochs = len(net.history)\n",
    "sns.lineplot(range(n_epochs), net.history[:, 'train_loss'])\n",
    "sns.lineplot(range(n_epochs), net.history[:, 'valid_loss'])\n",
    "ax.legend(['train_loss', 'valid_loss'])\n",
    "ax.set_xlabel('Epoch')\n",
    "ax.set_ylabel('Loss')"
   ]
  },
  {
   "cell_type": "code",
   "execution_count": null,
   "metadata": {
    "Collapsed": "false"
   },
   "outputs": [],
   "source": [
    "net.callbacks.remove(freezer)\n",
    "net.callbacks.append(unfreezer)\n",
    "net.callbacks"
   ]
  },
  {
   "cell_type": "code",
   "execution_count": null,
   "metadata": {
    "Collapsed": "false"
   },
   "outputs": [],
   "source": [
    "net.partial_fit(train_ds, y=None);"
   ]
  },
  {
   "cell_type": "markdown",
   "metadata": {
    "Collapsed": "true"
   },
   "source": [
    "### Inference"
   ]
  },
  {
   "cell_type": "code",
   "execution_count": null,
   "metadata": {
    "Collapsed": "false"
   },
   "outputs": [],
   "source": [
    "net.initialize();\n",
    "net.load_params(checkpoint=chkpt)"
   ]
  },
  {
   "cell_type": "code",
   "execution_count": null,
   "metadata": {
    "Collapsed": "false"
   },
   "outputs": [],
   "source": [
    "fig, ax = plt.subplots(figsize=(10, 8))\n",
    "n_epochs = len(net.history)\n",
    "sns.lineplot(range(n_epochs), net.history[:, 'train_loss'])\n",
    "sns.lineplot(range(n_epochs), net.history[:, 'valid_loss'])\n",
    "ax.legend(['train_loss', 'valid_loss'])\n",
    "ax.set_xlabel('Epoch')\n",
    "ax.set_ylabel('Loss')"
   ]
  },
  {
   "cell_type": "code",
   "execution_count": null,
   "metadata": {
    "Collapsed": "false"
   },
   "outputs": [],
   "source": [
    "pred = net.predict(test_ds)\n",
    "test_dl = DataLoader(test_ds, batch_size=len(test_ds))\n",
    "_, y_true = iter(test_dl).next()\n",
    "y_true = y_true.numpy()\n",
    "\n",
    "print(f\"Accuracy of labeled test set= {accuracy_score(y_true, pred)*100:0.2f}%\")"
   ]
  },
  {
   "cell_type": "code",
   "execution_count": null,
   "metadata": {
    "Collapsed": "false"
   },
   "outputs": [],
   "source": [
    "unlabeled_ds = UnlabeledTestSet(data_path, tfms['pred'])\n",
    "unlabeled_dl = DataLoader(unlabeled_ds, batch_size=len(unlabeled_ds))\n",
    "itr = iter(unlabeled_dl)\n",
    "\n",
    "imgs, _ = itr.next()"
   ]
  },
  {
   "cell_type": "code",
   "execution_count": null,
   "metadata": {
    "Collapsed": "false"
   },
   "outputs": [],
   "source": [
    "idx = np.random.randint(len(imgs))\n",
    "print(f\"Predicted Label: {train_ds.classes[net.predict(imgs[idx].unsqueeze(dim=0)).item()]}\")\n",
    "for_disp(imgs[idx])"
   ]
  },
  {
   "cell_type": "markdown",
   "metadata": {
    "Collapsed": "false"
   },
   "source": [
    "## Adversarial Perturbations"
   ]
  },
  {
   "cell_type": "markdown",
   "metadata": {
    "Collapsed": "false"
   },
   "source": [
    "### Setup"
   ]
  },
  {
   "cell_type": "code",
   "execution_count": null,
   "metadata": {
    "Collapsed": "false"
   },
   "outputs": [],
   "source": [
    "net.initialize();\n",
    "net.load_params(checkpoint=chkpt)\n",
    "\n",
    "trained_model = net.module.eval()\n",
    "trained_model = trained_model.eval()\n",
    "trained_model = trained_model.cuda()\n",
    "\n",
    "unt_adversary = LinfPGDAttack(trained_model, loss_fn=nn.CrossEntropyLoss(reduction=\"sum\"), eps=0.15, nb_iter=40, eps_iter=0.01, rand_init=True, clip_min=0.0, clip_max=1.0, targeted=False)\n",
    "t_adversary = LinfPGDAttack(trained_model, loss_fn=nn.CrossEntropyLoss(reduction=\"sum\"), eps=0.15, nb_iter=40, eps_iter=0.01, rand_init=True, clip_min=0.0, clip_max=1.0, targeted=True)"
   ]
  },
  {
   "cell_type": "markdown",
   "metadata": {
    "Collapsed": "false"
   },
   "source": [
    "### Untargeted"
   ]
  },
  {
   "cell_type": "code",
   "execution_count": null,
   "metadata": {
    "Collapsed": "false"
   },
   "outputs": [],
   "source": [
    "bs = 128\n",
    "test_dl = DataLoader(test_ds, batch_size=bs, shuffle=True)\n",
    "test_itr = iter(test_dl)"
   ]
  },
  {
   "cell_type": "code",
   "execution_count": null,
   "metadata": {
    "Collapsed": "false"
   },
   "outputs": [],
   "source": [
    "%%time\n",
    "x_clean, y_true = test_itr.next()\n",
    "x_clean,y_true = x_clean.cuda(),y_true.cuda()\n",
    "x_unt_adv = unt_adversary.perturb(x_clean, y_true)\n",
    "y_pred,y_unt_pred = net.predict(x_clean), net.predict(x_unt_adv)\n",
    "y_prob,y_unt_prob = sigmoid(net.predict_proba(x_clean)), sigmoid(net.predict_proba(x_unt_adv))\n",
    "y_true = y_true.cpu().numpy()"
   ]
  },
  {
   "cell_type": "code",
   "execution_count": null,
   "metadata": {
    "Collapsed": "false"
   },
   "outputs": [],
   "source": [
    "print(f\"Accuracy of {bs} clean examples= {accuracy_score(y_true, y_pred)*100:0.2f}%\")\n",
    "print(f\"Accuracy of {bs} adversarial examples= {accuracy_score(y_true, y_unt_pred)*100:0.2f}%\")"
   ]
  },
  {
   "cell_type": "code",
   "execution_count": null,
   "metadata": {
    "Collapsed": "false"
   },
   "outputs": [],
   "source": [
    "imgs,imgs_adv = for_disp(x_clean),for_disp(x_unt_adv)\n",
    "imgs_diff = np.abs(imgs-imgs_adv)"
   ]
  },
  {
   "cell_type": "code",
   "execution_count": null,
   "metadata": {
    "Collapsed": "false"
   },
   "outputs": [],
   "source": [
    "np.max(y_prob[idxs[i]])"
   ]
  },
  {
   "cell_type": "code",
   "execution_count": null,
   "metadata": {
    "Collapsed": "false"
   },
   "outputs": [],
   "source": [
    "samples = min(5, len(imgs))\n",
    "idxs = np.random.choice(len(imgs), (samples), replace=False)\n",
    "\n",
    "fig,axs = plt.subplots(nrows=4, ncols=3, figsize=(20, 16))\n",
    "for i, ax in enumerate(axs[None:]):\n",
    "  ax[0].imshow(imgs[idxs[i]])\n",
    "  ax[0].set_title(f\"True: {train_ds.classes[y_true[idxs[i]]]}, Pred: {train_ds.classes[y_pred[idxs[i]]]}, Conf: {np.max(y_prob[idxs[i]])*100:0.2f}\", color='b')\n",
    "  ax[0].axis('off')\n",
    "  ax[0].axis('tight')\n",
    "  \n",
    "  ax[1].imshow(imgs_adv[idxs[i]])\n",
    "  ax[1].set_title(f\"Untargeted, Pred: {train_ds.classes[y_unt_pred[idxs[i]]]}, Conf: {np.max(y_unt_prob[idxs[i]])*100:0.2f}\", color='r')\n",
    "  ax[1].axis('off')\n",
    "  ax[1].axis('tight')\n",
    "  \n",
    "  ax[2].imshow(imgs_diff[idxs[i]])\n",
    "  ax[2].set_title(\"Image difference\", color='g')\n",
    "  ax[2].axis('off')\n",
    "  ax[2].axis('tight')  "
   ]
  },
  {
   "cell_type": "markdown",
   "metadata": {
    "Collapsed": "false"
   },
   "source": [
    "### Targeted"
   ]
  },
  {
   "cell_type": "code",
   "execution_count": null,
   "metadata": {
    "Collapsed": "false"
   },
   "outputs": [],
   "source": [
    "test_ds.classes"
   ]
  },
  {
   "cell_type": "code",
   "execution_count": null,
   "metadata": {
    "Collapsed": "false"
   },
   "outputs": [],
   "source": [
    "source,target = 'forest','street'\n",
    "source_idxs = [i for i in range(len(test_ds.targets)) if test_ds.targets[i] == test_ds.class_to_idx[source]]\n",
    "test_ds.samples = [test_ds.samples[idx] for idx in source_idxs]\n",
    "test_ds.targets = [test_ds.targets[idx] for idx in source_idxs]"
   ]
  },
  {
   "cell_type": "code",
   "execution_count": null,
   "metadata": {
    "Collapsed": "false"
   },
   "outputs": [],
   "source": [
    "bs = 128\n",
    "target_labels = T([test_ds.class_to_idx[target]] * bs).cuda()\n",
    "test_dl = DataLoader(test_ds, batch_size=bs, shuffle=True)\n",
    "test_itr = iter(test_dl)"
   ]
  },
  {
   "cell_type": "code",
   "execution_count": null,
   "metadata": {
    "Collapsed": "false"
   },
   "outputs": [],
   "source": [
    "%%time\n",
    "x_clean, y_true = test_itr.next()\n",
    "x_clean,y_true = x_clean.cuda(),y_true.cuda()\n",
    "x_t_adv = t_adversary.perturb(x_clean, target_labels)\n",
    "y_pred,y_t_pred = net.predict(x_clean), net.predict(x_t_adv)\n",
    "y_true = y_true.cpu().numpy()"
   ]
  },
  {
   "cell_type": "code",
   "execution_count": null,
   "metadata": {
    "Collapsed": "false"
   },
   "outputs": [],
   "source": [
    "y_t_prob = net.predict_proba(x_t_adv)"
   ]
  },
  {
   "cell_type": "code",
   "execution_count": null,
   "metadata": {
    "Collapsed": "false"
   },
   "outputs": [],
   "source": [
    "y_t_prob = sigmoid(y_t_prob)"
   ]
  },
  {
   "cell_type": "code",
   "execution_count": null,
   "metadata": {
    "Collapsed": "false"
   },
   "outputs": [],
   "source": [
    "print(f\"Accuracy of {bs} clean examples= {accuracy_score(y_true, y_pred)*100:0.2f}%\")\n",
    "print(f\"Accuracy of {bs} adversarial examples= {accuracy_score(y_true, y_t_pred)*100:0.2f}%\")"
   ]
  },
  {
   "cell_type": "code",
   "execution_count": null,
   "metadata": {
    "Collapsed": "false"
   },
   "outputs": [],
   "source": [
    "imgs,imgs_adv = for_disp(x_clean),for_disp(x_t_adv)\n",
    "imgs_diff = np.abs(imgs-imgs_adv)"
   ]
  },
  {
   "cell_type": "code",
   "execution_count": null,
   "metadata": {
    "Collapsed": "false"
   },
   "outputs": [],
   "source": [
    "samples = min(5, len(imgs))\n",
    "idxs = np.random.choice(len(imgs), (samples), replace=False)\n",
    "\n",
    "fig,axs = plt.subplots(nrows=4, ncols=3, figsize=(20, 15))\n",
    "for i, ax in enumerate(axs[None:]):\n",
    "  ax[0].imshow(imgs[idxs[i]])\n",
    "  ax[0].set_title(f\"Clean Example\\nPrediction: {train_ds.classes[y_pred[idxs[i]]]}\", color='r')\n",
    "  ax[0].axis('off')\n",
    "  ax[0].axis('tight')\n",
    "  \n",
    "  ax[1].imshow(imgs_adv[idxs[i]])\n",
    "  ax[1].set_title(f\"Targeted Aversarial {source}-->{target}\\nPrediction: {train_ds.classes[y_t_pred[idxs[i]]]}\", color='r')\n",
    "  ax[1].axis('off')\n",
    "  ax[1].axis('tight')\n",
    "  \n",
    "  ax[2].imshow(imgs_diff[idxs[i]])\n",
    "  ax[2].set_title(\"Image difference\")\n",
    "  ax[2].axis('off')\n",
    "  ax[2].axis('tight')  "
   ]
  }
 ],
 "metadata": {
  "kernelspec": {
   "display_name": "Python 3",
   "language": "python",
   "name": "python3"
  },
  "language_info": {
   "codemirror_mode": {
    "name": "ipython",
    "version": 3
   },
   "file_extension": ".py",
   "mimetype": "text/x-python",
   "name": "python",
   "nbconvert_exporter": "python",
   "pygments_lexer": "ipython3",
   "version": "3.7.6"
  }
 },
 "nbformat": 4,
 "nbformat_minor": 4
}
