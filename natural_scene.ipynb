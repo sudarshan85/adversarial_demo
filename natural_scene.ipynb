{
 "cells": [
  {
   "cell_type": "markdown",
   "metadata": {
    "Collapsed": "false"
   },
   "source": [
    "# Adversarial Example Generation for Images"
   ]
  },
  {
   "cell_type": "code",
   "execution_count": null,
   "metadata": {
    "Collapsed": "false"
   },
   "outputs": [],
   "source": [
    "%load_ext autoreload\n",
    "%autoreload 2"
   ]
  },
  {
   "cell_type": "code",
   "execution_count": null,
   "metadata": {
    "Collapsed": "false"
   },
   "outputs": [],
   "source": [
    "import pdb\n",
    "import pandas as pd\n",
    "import numpy as np\n",
    "\n",
    "from pathlib import Path\n",
    "from PIL import Image\n",
    "import matplotlib.pyplot as plt\n",
    "import seaborn as sns\n",
    "sns.set_style(\"darkgrid\")\n",
    "%matplotlib inline"
   ]
  },
  {
   "cell_type": "code",
   "execution_count": null,
   "metadata": {
    "Collapsed": "false"
   },
   "outputs": [],
   "source": [
    "import torch\n",
    "import torch.tensor as T\n",
    "from torch import nn, optim\n",
    "from torch.nn import functional as F\n",
    "\n",
    "from torch.utils.data import DataLoader, random_split, Dataset\n",
    "from torchvision import transforms, models\n",
    "from torchvision.datasets import ImageFolder\n",
    "from torchsummary import summary\n",
    "\n",
    "from sklearn.metrics import accuracy_score\n",
    "from skorch import NeuralNetClassifier\n",
    "from skorch.callbacks import Checkpoint, Freezer, LRScheduler, EarlyStopping, Unfreezer\n",
    "from skorch.dataset import CVSplit\n",
    "\n",
    "print(f\"GPU present: {torch.cuda.is_available()}\")"
   ]
  },
  {
   "cell_type": "code",
   "execution_count": null,
   "metadata": {
    "Collapsed": "false"
   },
   "outputs": [],
   "source": [
    "img_size=(150,150)\n",
    "data_stats = dict(mean=T([0.4302, 0.4575, 0.4539]), std=T([0.2361, 0.2347, 0.2433]))\n",
    "data_path = Path('./data')"
   ]
  },
  {
   "cell_type": "markdown",
   "metadata": {
    "Collapsed": "false"
   },
   "source": [
    "## Functions"
   ]
  },
  {
   "cell_type": "code",
   "execution_count": null,
   "metadata": {
    "Collapsed": "false"
   },
   "outputs": [],
   "source": [
    "def for_disp(img):\n",
    "  img_disp = img.mul(data_stats['std'][:, None, None]).add(data_stats['mean'][:, None, None])\n",
    "  return transforms.ToPILImage()(img_disp)\n",
    "\n",
    "def get_stats(loader):\n",
    "  mean,std = 0.0,0.0\n",
    "  nb_samples = 0\n",
    "  for imgs, _ in loader:\n",
    "    batch = imgs.size(0)\n",
    "    imgs = imgs.view(batch, imgs.size(1), -1)\n",
    "    mean += imgs.mean(2).sum(0)\n",
    "    std += imgs.std(2).sum(0)\n",
    "    nb_samples += batch\n",
    "\n",
    "  return mean/nb_samples, std/nb_samples"
   ]
  },
  {
   "cell_type": "markdown",
   "metadata": {
    "Collapsed": "true"
   },
   "source": [
    "## EDA Data"
   ]
  },
  {
   "cell_type": "code",
   "execution_count": null,
   "metadata": {
    "Collapsed": "false"
   },
   "outputs": [],
   "source": [
    "imgs,labels = [],[]\n",
    "n_imgs = 5\n",
    "\n",
    "for folder in (data_path/'train').iterdir():\n",
    "  label = folder.name  \n",
    "  for img_f in list(folder.glob('*.jpg'))[:n_imgs]:\n",
    "    with Image.open(img_f) as f:\n",
    "      imgs.append(np.array(f))\n",
    "    labels.append(label)\n",
    "\n",
    "n_classes = len(np.unique(labels))"
   ]
  },
  {
   "cell_type": "code",
   "execution_count": null,
   "metadata": {
    "Collapsed": "false"
   },
   "outputs": [],
   "source": [
    "fig = plt.figure(figsize=(15, 15))\n",
    "\n",
    "for i, img in enumerate(imgs):\n",
    "  ax = fig.add_subplot(n_classes, n_imgs, i+1)\n",
    "  ax.imshow(img)\n",
    "  ax.set_title(labels[i], color='r')\n",
    "  ax.set_xticks([])\n",
    "  ax.set_yticks([])\n",
    "    \n",
    "plt.show()"
   ]
  },
  {
   "cell_type": "code",
   "execution_count": null,
   "metadata": {
    "Collapsed": "false"
   },
   "outputs": [],
   "source": [
    "train_tfms = transforms.Compose(\n",
    "  [\n",
    "    transforms.Resize(img_size),\n",
    "    transforms.RandomHorizontalFlip(p=0.5),\n",
    "    transforms.ToTensor(),\n",
    "    transforms.Normalize(**data_stats),    \n",
    "  ]\n",
    ")\n",
    "\n",
    "pred_tfms = transforms.Compose(\n",
    "  [\n",
    "    transforms.Resize(img_size),\n",
    "    transforms.ToTensor(),\n",
    "    transforms.Normalize(**data_stats)\n",
    "  ]\n",
    ")"
   ]
  },
  {
   "cell_type": "code",
   "execution_count": null,
   "metadata": {
    "Collapsed": "false"
   },
   "outputs": [],
   "source": [
    "ds = ImageFolder(data_path/'train', transform=train_tfms)\n",
    "\n",
    "train_pct = 0.85\n",
    "n_train = np.int(len(ds) * train_pct)\n",
    "n_val = len(ds) - n_train\n",
    "\n",
    "train_ds,val_ds = random_split(ds, [n_train, n_val])\n",
    "train_ds,val_ds = train_ds.dataset,val_ds.dataset"
   ]
  },
  {
   "cell_type": "code",
   "execution_count": null,
   "metadata": {
    "Collapsed": "false"
   },
   "outputs": [],
   "source": [
    "train_dl = DataLoader(train_ds, batch_size=32, shuffle=True, drop_last=True)\n",
    "train_itr = iter(train_dl)\n",
    "\n",
    "val_dl = DataLoader(val_ds, batch_size=32)\n",
    "val_itr = iter(val_dl)\n",
    "\n",
    "test_ds = ImageFolder(data_path/'test', transform=pred_tfms)\n",
    "test_dl = DataLoader(test_ds, batch_size=32)"
   ]
  },
  {
   "cell_type": "code",
   "execution_count": null,
   "metadata": {
    "Collapsed": "false"
   },
   "outputs": [],
   "source": [
    "imgs, labels = next(train_itr)"
   ]
  },
  {
   "cell_type": "code",
   "execution_count": null,
   "metadata": {
    "Collapsed": "false"
   },
   "outputs": [],
   "source": [
    "idx = np.random.randint(len(imgs))\n",
    "\n",
    "print(train_ds.classes[labels[idx].item()])\n",
    "img = for_disp(imgs[idx])\n",
    "img"
   ]
  },
  {
   "cell_type": "code",
   "execution_count": null,
   "metadata": {
    "Collapsed": "false"
   },
   "outputs": [],
   "source": [
    "clf = IntelImageClassifier().cuda()\n",
    "loss_fn = nn.CrossEntropyLoss()\n",
    "opt = optim.Adam(clf.parameters(), lr=0.01)"
   ]
  },
  {
   "cell_type": "code",
   "execution_count": null,
   "metadata": {
    "Collapsed": "false"
   },
   "outputs": [],
   "source": [
    "imgs, labels = next(train_itr)\n",
    "imgs = imgs.cuda()\n",
    "labels = labels.cuda()\n",
    "\n",
    "pred = clf(imgs)\n",
    "loss_fn(pred, labels)"
   ]
  },
  {
   "cell_type": "markdown",
   "metadata": {
    "Collapsed": "false"
   },
   "source": [
    "## Build Model"
   ]
  },
  {
   "cell_type": "markdown",
   "metadata": {
    "Collapsed": "false"
   },
   "source": [
    "### Setup"
   ]
  },
  {
   "cell_type": "code",
   "execution_count": null,
   "metadata": {
    "Collapsed": "false"
   },
   "outputs": [],
   "source": [
    "tfms = {}    \n",
    "tfms['train'] = transforms.Compose([\n",
    "  transforms.Resize((150, 150)),\n",
    "  transforms.RandomHorizontalFlip(p=0.5),\n",
    "  transforms.ToTensor(),\n",
    "  transforms.Normalize(**data_stats)\n",
    "])\n",
    "tfms['pred'] = transforms.Compose([\n",
    "  transforms.Resize((150, 150)),\n",
    "  transforms.ToTensor(),\n",
    "  transforms.Normalize(**data_stats)\n",
    "])\n",
    "\n",
    "train_ds = ImageFolder(data_path/'train', transform=tfms['train'])\n",
    "test_ds = ImageFolder(data_path/'test', transform=tfms['pred'])"
   ]
  },
  {
   "cell_type": "code",
   "execution_count": null,
   "metadata": {
    "Collapsed": "false"
   },
   "outputs": [],
   "source": [
    "class PretrainedClf(nn.Module):\n",
    "  def __init__(self, arch):\n",
    "    super(PretrainedClf, self).__init__()      \n",
    "    if arch == 'vgg19_bn':\n",
    "      self.model = models.vgg19_bn(pretrained=True) # load pretrained model    \n",
    "      # replace last layer with custom layer\n",
    "      classifier = nn.Sequential(\n",
    "        nn.Linear(in_features=25088, out_features=4096),\n",
    "        nn.ReLU(),\n",
    "        nn.Dropout(p=0.5),\n",
    "        nn.Linear(in_features=4096, out_features=4096),\n",
    "        nn.ReLU(),\n",
    "        nn.Dropout(p=0.5),\n",
    "        nn.Linear(in_features=4096, out_features=6) # 6 classes\n",
    "      )\n",
    "      self.model.classifier = classifier\n",
    "    elif arch  == 'resnet34':\n",
    "      self.model = models.resnet34(pretrained=True)\n",
    "      self.model.fc = nn.Linear(self.model.fc.in_features, 6)\n",
    "    elif arch  == 'resnet50':\n",
    "      self.model = models.resnet50(pretrained=True)\n",
    "      self.model.fc = nn.Linear(self.model.fc.in_features, 6)\n",
    "    else:\n",
    "      raise ValueError(\"Arch must be one of vgg19_bn, resnet34, resnet101\")\n",
    "    \n",
    "  def forward(self, x):\n",
    "    return self.model(x)"
   ]
  },
  {
   "cell_type": "code",
   "execution_count": null,
   "metadata": {
    "Collapsed": "false"
   },
   "outputs": [],
   "source": [
    "arch = 'vgg19_bn'\n",
    "model = PretrainedClf(arch)"
   ]
  },
  {
   "cell_type": "code",
   "execution_count": null,
   "metadata": {
    "Collapsed": "false"
   },
   "outputs": [],
   "source": [
    "lrscheduler = LRScheduler(policy='StepLR', step_size=7, gamma=0.1)\n",
    "chkpt = Checkpoint(dirname=Path('./workdir/resnet34'), monitor='valid_acc_best')\n",
    "freezer = Freezer(lambda x: not x.startswith('model.fc'))\n",
    "unfreezer = Unfreezer(lambda x: not x.startswith('model.fc'))\n",
    "\n",
    "callbacks = [lrscheduler, chkpt, freezer, EarlyStopping()]"
   ]
  },
  {
   "cell_type": "code",
   "execution_count": null,
   "metadata": {
    "Collapsed": "false"
   },
   "outputs": [],
   "source": [
    "net = NeuralNetClassifier(\n",
    "  Resnet34Clf,\n",
    "  criterion=nn.CrossEntropyLoss,\n",
    "  lr=0.001,\n",
    "  batch_size=128,\n",
    "  max_epochs=25,\n",
    "  optimizer=optim.Adam,\n",
    "  iterator_train__shuffle=True,\n",
    "  iterator_train__drop_last=True,\n",
    "  iterator_train__num_workers=4,\n",
    "  iterator_valid__shuffle=False,  \n",
    "  train_split=CVSplit(cv=0.15),\n",
    "  callbacks=callbacks,\n",
    "  device='cuda:0'\n",
    ")"
   ]
  },
  {
   "cell_type": "markdown",
   "metadata": {
    "Collapsed": "true"
   },
   "source": [
    "### Training"
   ]
  },
  {
   "cell_type": "code",
   "execution_count": null,
   "metadata": {
    "Collapsed": "false"
   },
   "outputs": [],
   "source": [
    "net.fit(train_ds, y=None);"
   ]
  },
  {
   "cell_type": "code",
   "execution_count": null,
   "metadata": {
    "Collapsed": "false"
   },
   "outputs": [],
   "source": [
    "fig, ax = plt.subplots(figsize=(10, 8))\n",
    "n_epochs = len(net.history)\n",
    "sns.lineplot(range(n_epochs), net.history[:, 'train_loss'])\n",
    "sns.lineplot(range(n_epochs), net.history[:, 'valid_loss'])\n",
    "ax.legend(['train_loss', 'valid_loss'])"
   ]
  },
  {
   "cell_type": "code",
   "execution_count": null,
   "metadata": {
    "Collapsed": "false"
   },
   "outputs": [],
   "source": [
    "net.callbacks.remove(freezer)\n",
    "net.callbacks.append(unfreezer)"
   ]
  },
  {
   "cell_type": "code",
   "execution_count": null,
   "metadata": {
    "Collapsed": "false"
   },
   "outputs": [],
   "source": [
    "net.partial_fit(train_ds, y=None);"
   ]
  },
  {
   "cell_type": "markdown",
   "metadata": {
    "Collapsed": "false"
   },
   "source": [
    "### Inference"
   ]
  },
  {
   "cell_type": "code",
   "execution_count": null,
   "metadata": {
    "Collapsed": "false"
   },
   "outputs": [],
   "source": [
    "net.initialize();\n",
    "net.load_params(checkpoint=chkpt)"
   ]
  },
  {
   "cell_type": "code",
   "execution_count": null,
   "metadata": {
    "Collapsed": "false"
   },
   "outputs": [],
   "source": [
    "pred = net.predict(test_ds)\n",
    "test_dl = DataLoader(test_ds, batch_size=len(test_ds))\n",
    "_, y_true = iter(test_dl).next()\n",
    "y_true = y_true.numpy()\n",
    "\n",
    "print(f\"Accuracy = {accuracy_score(y_true, pred)*100:0.2f}%\")"
   ]
  },
  {
   "cell_type": "code",
   "execution_count": null,
   "metadata": {
    "Collapsed": "false"
   },
   "outputs": [],
   "source": [
    "classes = train_ds.classes"
   ]
  },
  {
   "cell_type": "code",
   "execution_count": null,
   "metadata": {
    "Collapsed": "false"
   },
   "outputs": [],
   "source": [
    "class UnlabeledTestSet(Dataset):\n",
    "  def __init__(self, data_path, tfms=transforms.ToTensor()):\n",
    "    self.imgs = list((data_path/'unlabeled_test').glob('*.jpg'))\n",
    "    self.tfms = tfms\n",
    "    \n",
    "  def __len__(self):\n",
    "    return len(self.imgs)\n",
    "  \n",
    "  def __getitem__(self, idx):\n",
    "    if torch.is_tensor(idx):\n",
    "      idx = idx.tolist()\n",
    "      \n",
    "    with open(self.imgs[idx], 'rb') as f:\n",
    "      img = Image.open(f).convert('RGB')\n",
    "      \n",
    "    img = self.tfms(img)\n",
    "    return img, T(-1)"
   ]
  },
  {
   "cell_type": "code",
   "execution_count": null,
   "metadata": {
    "Collapsed": "false"
   },
   "outputs": [],
   "source": [
    "unlabeled_ds = UnlabeledTestSet(data_path, tfms['pred'])\n",
    "unlabeled_dl = DataLoader(unlabeled_ds, batch_size=len(unlabeled_ds))\n",
    "itr = iter(unlabeled_dl)\n",
    "\n",
    "imgs, _ = itr.next()"
   ]
  },
  {
   "cell_type": "code",
   "execution_count": null,
   "metadata": {
    "Collapsed": "false"
   },
   "outputs": [],
   "source": [
    "idx = np.random.randint(len(imgs))\n",
    "print(f\"Predicted Label: {classes[net.predict(imgs[idx].unsqueeze(dim=0)).item()]}\")\n",
    "for_disp(imgs[idx])"
   ]
  }
 ],
 "metadata": {
  "kernelspec": {
   "display_name": "Python 3",
   "language": "python",
   "name": "python3"
  },
  "language_info": {
   "codemirror_mode": {
    "name": "ipython",
    "version": 3
   },
   "file_extension": ".py",
   "mimetype": "text/x-python",
   "name": "python",
   "nbconvert_exporter": "python",
   "pygments_lexer": "ipython3",
   "version": "3.7.6"
  }
 },
 "nbformat": 4,
 "nbformat_minor": 4
}
