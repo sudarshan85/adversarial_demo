{
 "nbformat": 4,
 "nbformat_minor": 2,
 "metadata": {
  "language_info": {
   "name": "python",
   "codemirror_mode": {
    "name": "ipython",
    "version": 3
   },
   "version": "3.6.9-final"
  },
  "orig_nbformat": 2,
  "file_extension": ".py",
  "mimetype": "text/x-python",
  "name": "python",
  "npconvert_exporter": "python",
  "pygments_lexer": "ipython3",
  "version": 3,
  "kernelspec": {
   "name": "python36964bitvenvvenve70d0421ec9f455e8efeaa71e891d60e",
   "display_name": "Python 3.6.9 64-bit ('venv': venv)"
  }
 },
 "cells": [
  {
   "cell_type": "code",
   "execution_count": 1,
   "metadata": {},
   "outputs": [],
   "source": [
    "import lightgbm as lgb\n",
    "import numpy as np\n",
    "\n",
    "from art.attacks import ZooAttack\n",
    "from art.classifiers import LightGBMClassifier\n",
    "from art.utils import load_mnist"
   ]
  },
  {
   "cell_type": "code",
   "execution_count": 3,
   "metadata": {},
   "outputs": [],
   "source": [
    "(x_train, y_train), (x_test, y_test), min_pixel_value, max_pixel_value = load_mnist()"
   ]
  },
  {
   "cell_type": "code",
   "execution_count": 4,
   "metadata": {},
   "outputs": [],
   "source": [
    "x_test = x_test[0:5]\n",
    "y_test = y_test[0:5]"
   ]
  },
  {
   "cell_type": "code",
   "execution_count": 5,
   "metadata": {},
   "outputs": [],
   "source": [
    "nb_samples_train = x_train.shape[0]\n",
    "nb_samples_test = x_test.shape[0]\n",
    "x_train = x_train.reshape((nb_samples_train, 28 * 28))\n",
    "x_test = x_test.reshape((nb_samples_test, 28 * 28))"
   ]
  },
  {
   "cell_type": "code",
   "execution_count": 6,
   "metadata": {},
   "outputs": [],
   "source": [
    "params = {'objective': 'multiclass', 'metric': 'multi_logloss', 'num_class': 10}\n",
    "train_set = lgb.Dataset(x_train, label=np.argmax(y_train, axis=1))\n",
    "test_set = lgb.Dataset(x_test, label=np.argmax(y_test, axis=1))"
   ]
  },
  {
   "cell_type": "code",
   "execution_count": 7,
   "metadata": {},
   "outputs": [
    {
     "name": "stdout",
     "output_type": "stream",
     "text": "[1]\tvalid_0's multi_logloss: 1.83284\n[2]\tvalid_0's multi_logloss: 1.54971\n[3]\tvalid_0's multi_logloss: 1.38509\n[4]\tvalid_0's multi_logloss: 1.25221\n[5]\tvalid_0's multi_logloss: 1.15026\n[6]\tvalid_0's multi_logloss: 1.03595\n[7]\tvalid_0's multi_logloss: 0.935987\n[8]\tvalid_0's multi_logloss: 0.847067\n[9]\tvalid_0's multi_logloss: 0.771509\n[10]\tvalid_0's multi_logloss: 0.704675\n[11]\tvalid_0's multi_logloss: 0.648543\n[12]\tvalid_0's multi_logloss: 0.592831\n[13]\tvalid_0's multi_logloss: 0.546758\n[14]\tvalid_0's multi_logloss: 0.50427\n[15]\tvalid_0's multi_logloss: 0.468801\n[16]\tvalid_0's multi_logloss: 0.432248\n[17]\tvalid_0's multi_logloss: 0.401243\n[18]\tvalid_0's multi_logloss: 0.368308\n[19]\tvalid_0's multi_logloss: 0.340732\n[20]\tvalid_0's multi_logloss: 0.315382\n[21]\tvalid_0's multi_logloss: 0.293964\n[22]\tvalid_0's multi_logloss: 0.272822\n[23]\tvalid_0's multi_logloss: 0.253437\n[24]\tvalid_0's multi_logloss: 0.234701\n[25]\tvalid_0's multi_logloss: 0.217876\n[26]\tvalid_0's multi_logloss: 0.203204\n[27]\tvalid_0's multi_logloss: 0.187765\n[28]\tvalid_0's multi_logloss: 0.175445\n[29]\tvalid_0's multi_logloss: 0.163496\n[30]\tvalid_0's multi_logloss: 0.154166\n[31]\tvalid_0's multi_logloss: 0.144428\n[32]\tvalid_0's multi_logloss: 0.134626\n[33]\tvalid_0's multi_logloss: 0.125915\n[34]\tvalid_0's multi_logloss: 0.118617\n[35]\tvalid_0's multi_logloss: 0.112204\n[36]\tvalid_0's multi_logloss: 0.106649\n[37]\tvalid_0's multi_logloss: 0.0988347\n[38]\tvalid_0's multi_logloss: 0.0942302\n[39]\tvalid_0's multi_logloss: 0.0892977\n[40]\tvalid_0's multi_logloss: 0.0850712\n[41]\tvalid_0's multi_logloss: 0.0811103\n[42]\tvalid_0's multi_logloss: 0.0760076\n[43]\tvalid_0's multi_logloss: 0.0716763\n[44]\tvalid_0's multi_logloss: 0.068561\n[45]\tvalid_0's multi_logloss: 0.0643526\n[46]\tvalid_0's multi_logloss: 0.0599364\n[47]\tvalid_0's multi_logloss: 0.0556456\n[48]\tvalid_0's multi_logloss: 0.0536592\n[49]\tvalid_0's multi_logloss: 0.0493792\n[50]\tvalid_0's multi_logloss: 0.0472592\n[51]\tvalid_0's multi_logloss: 0.0442057\n[52]\tvalid_0's multi_logloss: 0.0416282\n[53]\tvalid_0's multi_logloss: 0.0390716\n[54]\tvalid_0's multi_logloss: 0.0361164\n[55]\tvalid_0's multi_logloss: 0.0338858\n[56]\tvalid_0's multi_logloss: 0.0316385\n[57]\tvalid_0's multi_logloss: 0.0300288\n[58]\tvalid_0's multi_logloss: 0.0281742\n[59]\tvalid_0's multi_logloss: 0.0262245\n[60]\tvalid_0's multi_logloss: 0.024699\n[61]\tvalid_0's multi_logloss: 0.023779\n[62]\tvalid_0's multi_logloss: 0.0225738\n[63]\tvalid_0's multi_logloss: 0.02138\n[64]\tvalid_0's multi_logloss: 0.0203304\n[65]\tvalid_0's multi_logloss: 0.0191692\n[66]\tvalid_0's multi_logloss: 0.0187211\n[67]\tvalid_0's multi_logloss: 0.017866\n[68]\tvalid_0's multi_logloss: 0.017352\n[69]\tvalid_0's multi_logloss: 0.0161693\n[70]\tvalid_0's multi_logloss: 0.0152262\n[71]\tvalid_0's multi_logloss: 0.0146817\n[72]\tvalid_0's multi_logloss: 0.0140695\n[73]\tvalid_0's multi_logloss: 0.0133502\n[74]\tvalid_0's multi_logloss: 0.0126592\n[75]\tvalid_0's multi_logloss: 0.0121039\n[76]\tvalid_0's multi_logloss: 0.0115191\n[77]\tvalid_0's multi_logloss: 0.0110567\n[78]\tvalid_0's multi_logloss: 0.0102297\n[79]\tvalid_0's multi_logloss: 0.00978507\n[80]\tvalid_0's multi_logloss: 0.00953688\n[81]\tvalid_0's multi_logloss: 0.00905541\n[82]\tvalid_0's multi_logloss: 0.00881409\n[83]\tvalid_0's multi_logloss: 0.00842747\n[84]\tvalid_0's multi_logloss: 0.00822687\n[85]\tvalid_0's multi_logloss: 0.00784412\n[86]\tvalid_0's multi_logloss: 0.0076477\n[87]\tvalid_0's multi_logloss: 0.00759948\n[88]\tvalid_0's multi_logloss: 0.00720731\n[89]\tvalid_0's multi_logloss: 0.00708946\n[90]\tvalid_0's multi_logloss: 0.00690284\n[91]\tvalid_0's multi_logloss: 0.00652181\n[92]\tvalid_0's multi_logloss: 0.00648394\n[93]\tvalid_0's multi_logloss: 0.00639128\n[94]\tvalid_0's multi_logloss: 0.00616229\n[95]\tvalid_0's multi_logloss: 0.0058654\n[96]\tvalid_0's multi_logloss: 0.00571106\n[97]\tvalid_0's multi_logloss: 0.00567919\n[98]\tvalid_0's multi_logloss: 0.00542996\n[99]\tvalid_0's multi_logloss: 0.00530735\n[100]\tvalid_0's multi_logloss: 0.00514427\n"
    }
   ],
   "source": [
    "model = lgb.train(params=params, train_set=train_set, num_boost_round=100, valid_sets=[test_set])"
   ]
  },
  {
   "cell_type": "code",
   "execution_count": 8,
   "metadata": {},
   "outputs": [],
   "source": [
    "classifier = LightGBMClassifier(model=model, clip_values=(min_pixel_value, max_pixel_value))"
   ]
  },
  {
   "cell_type": "code",
   "execution_count": 9,
   "metadata": {},
   "outputs": [
    {
     "name": "stdout",
     "output_type": "stream",
     "text": "Accuracy on benign test examples: 100.0%\n"
    }
   ],
   "source": [
    "predictions = classifier.predict(x_test)\n",
    "accuracy = np.sum(np.argmax(predictions, axis=1) == np.argmax(y_test, axis=1)) / len(y_test)\n",
    "print('Accuracy on benign test examples: {}%'.format(accuracy * 100))"
   ]
  },
  {
   "cell_type": "code",
   "execution_count": 10,
   "metadata": {},
   "outputs": [],
   "source": [
    "attack = ZooAttack(classifier=classifier, confidence=0.5, targeted=False, learning_rate=1e-1, max_iter=200,\n",
    "                   binary_search_steps=100, initial_const=1e-1, abort_early=True, use_resize=False,\n",
    "                   use_importance=False, nb_parallel=250, batch_size=1, variable_h=0.01)"
   ]
  },
  {
   "cell_type": "code",
   "execution_count": 11,
   "metadata": {},
   "outputs": [],
   "source": [
    "x_test_adv = attack.generate(x=x_test)"
   ]
  },
  {
   "cell_type": "code",
   "execution_count": 12,
   "metadata": {},
   "outputs": [
    {
     "name": "stdout",
     "output_type": "stream",
     "text": "Accuracy on adversarial test examples: 80.0%\n"
    }
   ],
   "source": [
    "predictions = classifier.predict(x_test_adv)\n",
    "accuracy = np.sum(np.argmax(predictions, axis=1) == np.argmax(y_test, axis=1)) / len(y_test)\n",
    "print('Accuracy on adversarial test examples: {}%'.format(accuracy * 100))"
   ]
  },
  {
   "cell_type": "code",
   "execution_count": 15,
   "metadata": {},
   "outputs": [],
   "source": [
    "import pickle"
   ]
  },
  {
   "cell_type": "code",
   "execution_count": 21,
   "metadata": {},
   "outputs": [],
   "source": [
    "\n",
    "from pathlib import Path"
   ]
  },
  {
   "cell_type": "code",
   "execution_count": 22,
   "metadata": {},
   "outputs": [],
   "source": [
    "\n",
    "path = Path('data')"
   ]
  },
  {
   "cell_type": "code",
   "execution_count": 24,
   "metadata": {},
   "outputs": [
    {
     "ename": "FileNotFoundError",
     "evalue": "[Errno 2] No such file or directory: 'data/adv_examples.pkl'",
     "output_type": "error",
     "traceback": [
      "\u001b[0;31m---------------------------------------------------------------------------\u001b[0m",
      "\u001b[0;31mFileNotFoundError\u001b[0m                         Traceback (most recent call last)",
      "\u001b[0;32m<ipython-input-24-6970f08c1a1b>\u001b[0m in \u001b[0;36m<module>\u001b[0;34m\u001b[0m\n\u001b[0;32m----> 1\u001b[0;31m \u001b[0mpickle\u001b[0m\u001b[0;34m.\u001b[0m\u001b[0mdump\u001b[0m\u001b[0;34m(\u001b[0m\u001b[0mx_test_adv\u001b[0m\u001b[0;34m,\u001b[0m \u001b[0mopen\u001b[0m\u001b[0;34m(\u001b[0m\u001b[0mpath\u001b[0m\u001b[0;34m/\u001b[0m\u001b[0;34m'adv_examples.pkl'\u001b[0m\u001b[0;34m,\u001b[0m \u001b[0;34m'wb'\u001b[0m\u001b[0;34m)\u001b[0m\u001b[0;34m)\u001b[0m\u001b[0;34m\u001b[0m\u001b[0;34m\u001b[0m\u001b[0m\n\u001b[0m",
      "\u001b[0;31mFileNotFoundError\u001b[0m: [Errno 2] No such file or directory: 'data/adv_examples.pkl'"
     ]
    }
   ],
   "source": [
    "pickle.dump(x_test_adv, open(path/'adv_examples.pkl', 'wb'))"
   ]
  }
 ]
}