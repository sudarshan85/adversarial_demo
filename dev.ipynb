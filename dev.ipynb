{
 "cells": [
  {
   "cell_type": "code",
   "execution_count": null,
   "metadata": {
    "ExecuteTime": {
     "end_time": "2020-01-09T00:11:43.830488Z",
     "start_time": "2020-01-09T00:11:43.814738Z"
    }
   },
   "outputs": [],
   "source": [
    "%load_ext autoreload\n",
    "%autoreload 2"
   ]
  },
  {
   "cell_type": "code",
   "execution_count": null,
   "metadata": {
    "ExecuteTime": {
     "end_time": "2020-01-09T00:11:44.608402Z",
     "start_time": "2020-01-09T00:11:43.831946Z"
    }
   },
   "outputs": [],
   "source": [
    "import matplotlib.pyplot as plt\n",
    "import seaborn as sns\n",
    "sns.set_style(\"darkgrid\")\n",
    "%matplotlib inline"
   ]
  },
  {
   "cell_type": "code",
   "execution_count": null,
   "metadata": {
    "ExecuteTime": {
     "end_time": "2020-01-09T00:11:44.671005Z",
     "start_time": "2020-01-09T00:11:44.610242Z"
    }
   },
   "outputs": [],
   "source": [
    "import lightgbm as lgb\n",
    "import numpy as np\n",
    "\n",
    "from art.attacks import ZooAttack\n",
    "from art.classifiers import LightGBMClassifier\n",
    "from art.utils import load_mnist"
   ]
  },
  {
   "cell_type": "code",
   "execution_count": null,
   "metadata": {
    "ExecuteTime": {
     "end_time": "2020-01-09T00:11:46.780237Z",
     "start_time": "2020-01-09T00:11:46.760923Z"
    }
   },
   "outputs": [],
   "source": [
    "from pathlib import Path\n",
    "import pickle"
   ]
  },
  {
   "cell_type": "code",
   "execution_count": null,
   "metadata": {
    "ExecuteTime": {
     "end_time": "2020-01-09T00:13:48.604075Z",
     "start_time": "2020-01-09T00:13:48.171380Z"
    }
   },
   "outputs": [],
   "source": [
    "(x_train, y_train), (x_test, y_test), _,_ = load_mnist()\n",
    "x_train.shape, y_train.shape, x_test.shape, y_test.shape"
   ]
  },
  {
   "cell_type": "code",
   "execution_count": null,
   "metadata": {
    "ExecuteTime": {
     "end_time": "2020-01-09T00:15:34.583177Z",
     "start_time": "2020-01-09T00:15:34.560161Z"
    }
   },
   "outputs": [],
   "source": [
    "x_train = x_train.reshape((x_train.shape[0], 28 * 28))\n",
    "x_test = x_test.reshape((x_test.shape[0], 28 * 28))"
   ]
  },
  {
   "cell_type": "code",
   "execution_count": null,
   "metadata": {
    "ExecuteTime": {
     "end_time": "2020-01-09T00:15:41.174205Z",
     "start_time": "2020-01-09T00:15:41.157146Z"
    }
   },
   "outputs": [],
   "source": [
    "params = {'objective': 'multiclass', 'metric': 'multi_logloss', 'num_class': 10}\n",
    "train_set = lgb.Dataset(x_train, label=np.argmax(y_train, axis=1))\n",
    "test_set = lgb.Dataset(x_test, label=np.argmax(y_test, axis=1))"
   ]
  },
  {
   "cell_type": "code",
   "execution_count": null,
   "metadata": {
    "ExecuteTime": {
     "end_time": "2020-01-09T00:17:03.310511Z",
     "start_time": "2020-01-09T00:15:46.832633Z"
    }
   },
   "outputs": [],
   "source": [
    "model = lgb.train(params=params, train_set=train_set, num_boost_round=100, valid_sets=[test_set])"
   ]
  },
  {
   "cell_type": "code",
   "execution_count": null,
   "metadata": {
    "ExecuteTime": {
     "end_time": "2020-01-09T01:53:57.394272Z",
     "start_time": "2020-01-09T01:53:57.378349Z"
    }
   },
   "outputs": [],
   "source": [
    "classifier = LightGBMClassifier(model=model, clip_values=(min_pixel_value, max_pixel_value))"
   ]
  },
  {
   "cell_type": "code",
   "execution_count": null,
   "metadata": {
    "ExecuteTime": {
     "end_time": "2020-01-09T01:54:04.424971Z",
     "start_time": "2020-01-09T01:54:04.267010Z"
    }
   },
   "outputs": [],
   "source": [
    "predictions = classifier.predict(x_test)\n",
    "accuracy = np.sum(np.argmax(predictions, axis=1) == np.argmax(y_test, axis=1)) / len(y_test)\n",
    "print('Accuracy on benign test examples: {}%'.format(accuracy * 100))"
   ]
  },
  {
   "cell_type": "code",
   "execution_count": null,
   "metadata": {
    "ExecuteTime": {
     "end_time": "2020-01-09T12:15:54.155435Z",
     "start_time": "2020-01-09T01:54:13.307822Z"
    }
   },
   "outputs": [],
   "source": [
    "attack = ZooAttack(classifier=classifier, confidence=0.5, targeted=False, learning_rate=1e-1, max_iter=200,\n",
    "                   binary_search_steps=100, initial_const=1e-1, abort_early=True, use_resize=False,\n",
    "                   use_importance=False, nb_parallel=250, batch_size=1, variable_h=0.01)\n",
    "x_test_adv = attack.generate(x=x_test)"
   ]
  },
  {
   "cell_type": "code",
   "execution_count": null,
   "metadata": {
    "ExecuteTime": {
     "end_time": "2020-01-09T12:15:54.161608Z",
     "start_time": "2020-01-09T02:37:34.755Z"
    }
   },
   "outputs": [],
   "source": [
    "predictions = classifier.predict(x_test_adv)\n",
    "accuracy = np.sum(np.argmax(predictions, axis=1) == np.argmax(y_test, axis=1)) / len(y_test)\n",
    "print('Accuracy on adversarial test examples: {}%'.format(accuracy * 100))"
   ]
  }
 ],
 "metadata": {
  "kernelspec": {
   "display_name": "Python 3",
   "language": "python",
   "name": "python3"
  },
  "language_info": {
   "codemirror_mode": {
    "name": "ipython",
    "version": 3
   },
   "file_extension": ".py",
   "mimetype": "text/x-python",
   "name": "python",
   "nbconvert_exporter": "python",
   "pygments_lexer": "ipython3",
   "version": "3.7.6"
  },
  "toc": {
   "base_numbering": 1,
   "nav_menu": {},
   "number_sections": true,
   "sideBar": true,
   "skip_h1_title": false,
   "title_cell": "Table of Contents",
   "title_sidebar": "Contents",
   "toc_cell": false,
   "toc_position": {},
   "toc_section_display": true,
   "toc_window_display": false
  }
 },
 "nbformat": 4,
 "nbformat_minor": 4
}
